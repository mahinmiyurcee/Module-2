{
 "cells": [
  {
   "cell_type": "code",
   "execution_count": 1,
   "id": "a68c9e47-5e65-4008-8056-e80b39dc5d23",
   "metadata": {},
   "outputs": [],
   "source": [
    "import zipfile\n",
    "import pandas as pd\n",
    "import numpy as np\n",
    "import os\n",
    "file_path = \"C:/Users/Dell/Desktop/Total.csv\""
   ]
  },
  {
   "cell_type": "code",
   "execution_count": 2,
   "id": "24f3353b-7aeb-4bf3-a811-e809855dbc3a",
   "metadata": {},
   "outputs": [],
   "source": [
    "def process_salary_data(file_path):\n",
    "    # Load the data\n",
    "    salary_data = pd.read_csv(file_path)\n",
    "    \n",
    "    # Define numeric columns\n",
    "    numeric_columns = ['BasePay', 'OvertimePay', 'OtherPay', 'Benefits', 'TotalPay', 'TotalPayBenefits']\n",
    "    \n",
    "    # Function to convert to float, replacing non-convertible values with NaN\n",
    "    def safe_float(x):\n",
    "        try:\n",
    "            return float(x)\n",
    "        except (ValueError, TypeError):\n",
    "            return np.nan\n",
    "    \n",
    "    # Apply safe conversion to numeric columns\n",
    "    for col in numeric_columns:\n",
    "        salary_data[col] = salary_data[col].apply(safe_float)\n",
    "    \n",
    "    # Group by JobTitle and aggregate by mean, ignoring non-numeric values\n",
    "    salary_grouped = salary_data.groupby('JobTitle')[numeric_columns].mean()\n",
    "    \n",
    "    # Convert to dictionary\n",
    "    employee_dict = salary_grouped.to_dict('index')\n",
    "    \n",
    "    return salary_data, employee_dict"
   ]
  },
  {
   "cell_type": "code",
   "execution_count": 3,
   "id": "26794180-1a29-4f56-9125-89af76485d5f",
   "metadata": {},
   "outputs": [],
   "source": [
    "def get_employee_details_safe(job_title, employee_dict):\n",
    "    try:\n",
    "        if job_title not in employee_dict:\n",
    "            raise ValueError(f\"No employee found with the job title: {job_title}\")\n",
    "        return employee_dict[job_title]\n",
    "    except Exception as e:\n",
    "        return f\"An error occurred: {str(e)}\""
   ]
  },
  {
   "cell_type": "code",
   "execution_count": 6,
   "id": "bec22862-d2c0-4080-b6f7-62bd2c49e5c4",
   "metadata": {},
   "outputs": [],
   "source": [
    "def get_employee_details(name, salary_data):\n",
    "    try:\n",
    "        employee = salary_data[salary_data['EmployeeName'].str.lower() == name.lower()]\n",
    "        if employee.empty:\n",
    "            return f\"No employee found with the name: {name}\"\n",
    "        else:\n",
    "            return employee.to_dict('records')[0]\n",
    "    except Exception as e:\n",
    "        return f\"An error occurred: {str(e)}\""
   ]
  },
  {
   "cell_type": "code",
   "execution_count": 20,
   "id": "a10cf632-a10c-4791-a504-d267a67f9808",
   "metadata": {},
   "outputs": [],
   "source": [
    "def export_employee_to_csv(name, salary_data, directory='Employee Profile'):\n",
    "    try:\n",
    "        details = get_employee_details(name, salary_data)\n",
    "        if isinstance(details, str):\n",
    "            return details\n",
    "\n",
    "        # Get the full path of the current working directory\n",
    "        current_dir = os.getcwd()\n",
    "\n",
    "        # Create the full path for the new directory\n",
    "        full_directory_path = os.path.join(current_dir, directory)\n",
    "\n",
    "        # Create the directory if it doesn't exist\n",
    "        if not os.path.exists(full_directory_path):\n",
    "            os.makedirs(full_directory_path)\n",
    "        \n",
    "        print(f\"Created directory: {full_directory_path}\")\n",
    "\n",
    "        # Define file path\n",
    "        file_path = os.path.join(full_directory_path, f'{name}_details.csv')\n",
    "\n",
    "       # Save to CSV\n",
    "        df = pd.DataFrame([details])\n",
    "        df.to_csv(file_path, index=False)\n",
    "        \n",
    "        print(f\"Exported CSV file: {file_path}\")\n",
    "\n",
    "        # Create a zip file\n",
    "        zip_path = os.path.join(full_directory_path, 'Employee Profile.zip')\n",
    "        with zipfile.ZipFile(zip_path, 'w') as zipf:\n",
    "            zipf.write(file_path, os.path.basename(file_path))\n",
    "\n",
    "        print(f\"Created zip file: {zip_path}\")\n",
    "\n",
    "        return f\"Exported and zipped: {zip_path}\"\n",
    "    except Exception as e:\n",
    "        return f\"An error occurred: {str(e)}\""
   ]
  },
  {
   "cell_type": "code",
   "execution_count": 21,
   "id": "64bfe6a8-d619-40ad-8c78-707dd07105f1",
   "metadata": {},
   "outputs": [
    {
     "name": "stderr",
     "output_type": "stream",
     "text": [
      "C:\\Users\\Dell\\AppData\\Local\\Temp\\ipykernel_12256\\834520004.py:3: DtypeWarning: Columns (2,3,4,5) have mixed types. Specify dtype option on import or set low_memory=False.\n",
      "  salary_data = pd.read_csv(file_path)\n"
     ]
    },
    {
     "name": "stdout",
     "output_type": "stream",
     "text": [
      "{'BasePay': 199119.15, 'OvertimePay': 0.0, 'OtherPay': 200092.125, 'Benefits': nan, 'TotalPay': 399211.275, 'TotalPayBenefits': 399211.275}\n",
      "{'EmployeeName': 'NATHANIEL FORD', 'JobTitle': 'GENERAL MANAGER-METROPOLITAN TRANSIT AUTHORITY', 'BasePay': 167411.18, 'OvertimePay': 0.0, 'OtherPay': 400184.25, 'Benefits': nan, 'TotalPay': 567595.43, 'TotalPayBenefits': 567595.43, 'Year': 2011}\n",
      "Created directory: C:\\Users\\Dell\\Employee Profile\n",
      "Exported CSV file: C:\\Users\\Dell\\Employee Profile\\NATHANIEL FORD_details.csv\n",
      "Created zip file: C:\\Users\\Dell\\Employee Profile\\Employee Profile.zip\n",
      "Exported and zipped: C:\\Users\\Dell\\Employee Profile\\Employee Profile.zip\n"
     ]
    }
   ],
   "source": [
    "# Main execution\n",
    "if __name__ == \"__main__\":\n",
    "    file_path = \"C:/Users/Dell/Desktop/Total.csv\"  \n",
    "    salary_data, employee_dict = process_salary_data(file_path)\n",
    "\n",
    "    print(get_employee_details_safe(\"GENERAL MANAGER-METROPOLITAN TRANSIT AUTHORITY\", employee_dict))\n",
    "    print(get_employee_details(\"NATHANIEL FORD\", salary_data))\n",
    "    print(export_employee_to_csv(\"NATHANIEL FORD\", salary_data))"
   ]
  },
  {
   "cell_type": "code",
   "execution_count": null,
   "id": "a36c10f5-9f24-4c4a-9b8a-81a852bfde52",
   "metadata": {},
   "outputs": [],
   "source": []
  }
 ],
 "metadata": {
  "kernelspec": {
   "display_name": "Python 3 (ipykernel)",
   "language": "python",
   "name": "python3"
  },
  "language_info": {
   "codemirror_mode": {
    "name": "ipython",
    "version": 3
   },
   "file_extension": ".py",
   "mimetype": "text/x-python",
   "name": "python",
   "nbconvert_exporter": "python",
   "pygments_lexer": "ipython3",
   "version": "3.12.5"
  }
 },
 "nbformat": 4,
 "nbformat_minor": 5
}
